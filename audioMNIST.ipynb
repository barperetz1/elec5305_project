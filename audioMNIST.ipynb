{
 "cells": [
  {
   "cell_type": "code",
   "execution_count": 2,
   "metadata": {
    "id": "OmHZLF15WWJj"
   },
   "outputs": [],
   "source": [
    "import tensorflow as tf\n",
    "\n",
    "from tensorflow.keras import datasets, layers, models\n",
    "import matplotlib.pyplot as plt"
   ]
  },
  {
   "cell_type": "code",
   "execution_count": 20,
   "metadata": {
    "id": "dhvzMB7TUe2y"
   },
   "outputs": [],
   "source": [
    "import os\n",
    "import librosa\n",
    "import numpy as np\n",
    "from sklearn.model_selection import train_test_split\n",
    "\n",
    "def generate_spectrogram(audio_file):\n",
    "    # Load the audio file using librosa\n",
    "    y, sr = librosa.load(audio_file)\n",
    "    if len(y)<=16000:\n",
    "        y = np.pad(y, (0,16000-len(y)), constant_values=(0,0))\n",
    "    else:\n",
    "        y = y[:16000]\n",
    "\n",
    "    M = librosa.feature.melspectrogram(y=y, sr=sr, n_mels=256, fmax=sr/2, n_fft=2048)\n",
    "    M_db = librosa.power_to_db(M, ref=np.max)\n",
    "    return M_db\n",
    "\n",
    "def generate_dataset(folder_path):\n",
    "    features = []\n",
    "    labels = []\n",
    "    count = 0\n",
    "    for dir in os.listdir(folder_path):\n",
    "        subdir = os.path.join(folder_path, dir)\n",
    "        if count > 5000:\n",
    "            break\n",
    "        for filename in os.listdir(subdir):\n",
    "            if count%500 == 0:\n",
    "                print(\"{} samples loaded\".format(count))\n",
    "            count+=1\n",
    "            if filename.endswith('.wav'):\n",
    "                # Extract the label from the filename (the first character)\n",
    "                label = int(filename[0])\n",
    "                filepath = os.path.join(subdir, filename)\n",
    "                # Extract the features from the audio file\n",
    "                spectrogram = generate_spectrogram(filepath)\n",
    "                features.append(spectrogram)\n",
    "                labels.append(label)\n",
    "\n",
    "    # Convert to numpy arrays for compatibility with most ML frameworks\n",
    "    features = np.array(features)\n",
    "    labels = np.array(labels)\n",
    "\n",
    "    # Split the dataset into training and testing sets\n",
    "    X_train, X_test, y_train, y_test = train_test_split(features, labels, test_size=0.2, random_state=42, shuffle=True)\n",
    "\n",
    "    return X_train, X_test, y_train, y_test"
   ]
  },
  {
   "cell_type": "code",
   "execution_count": 22,
   "metadata": {
    "colab": {
     "base_uri": "https://localhost:8080/"
    },
    "id": "Vmrr6EUQUgPh",
    "outputId": "f0763bdb-1c10-4fb5-c3c9-4926398ea448"
   },
   "outputs": [
    {
     "name": "stdout",
     "output_type": "stream",
     "text": [
      "0 samples loaded\n",
      "500 samples loaded\n",
      "1000 samples loaded\n",
      "1500 samples loaded\n",
      "2000 samples loaded\n",
      "2500 samples loaded\n",
      "3000 samples loaded\n",
      "3500 samples loaded\n",
      "4000 samples loaded\n",
      "4500 samples loaded\n",
      "5000 samples loaded\n",
      "Training samples: 4400\n",
      "Testing samples: 1100\n"
     ]
    }
   ],
   "source": [
    "folder_path_1 = \"audioMNIST_1\"\n",
    "X_train, X_test, y_train, y_test = generate_dataset(folder_path_1)\n",
    "\n",
    "print(\"Training samples:\", len(X_train))\n",
    "print(\"Testing samples:\", len(X_test))"
   ]
  },
  {
   "cell_type": "code",
   "execution_count": 23,
   "metadata": {
    "id": "akYJOyUDkCbp"
   },
   "outputs": [],
   "source": [
    "X_train = X_train[:400]\n",
    "y_train = y_train[:400]\n",
    "X_test = X_test[:100]\n",
    "y_test = y_test[:100]"
   ]
  },
  {
   "cell_type": "code",
   "execution_count": 24,
   "metadata": {
    "id": "2lpzItJxWZNb"
   },
   "outputs": [],
   "source": [
    "model = models.Sequential()\n",
    "model.add(layers.Conv2D(32, (3, 3), activation='relu', input_shape=(256, 32, 1)))\n",
    "model.add(layers.MaxPooling2D((2, 2)))\n",
    "model.add(layers.Conv2D(64, (3, 3), activation='relu'))\n",
    "model.add(layers.MaxPooling2D((2, 2)))\n",
    "model.add(layers.Conv2D(64, (3, 3), activation='relu'))"
   ]
  },
  {
   "cell_type": "code",
   "execution_count": 25,
   "metadata": {
    "id": "o9UQmtEbWkpV"
   },
   "outputs": [],
   "source": [
    "model.add(layers.Flatten())\n",
    "model.add(layers.Dense(64, activation='relu'))\n",
    "model.add(layers.Dense(10))"
   ]
  },
  {
   "cell_type": "code",
   "execution_count": 26,
   "metadata": {
    "colab": {
     "base_uri": "https://localhost:8080/"
    },
    "id": "gGgddirHWmrR",
    "outputId": "706926bf-4ca9-4811-9d35-edc0eb78975e"
   },
   "outputs": [
    {
     "name": "stdout",
     "output_type": "stream",
     "text": [
      "Model: \"sequential_2\"\n",
      "_________________________________________________________________\n",
      " Layer (type)                Output Shape              Param #   \n",
      "=================================================================\n",
      " conv2d_6 (Conv2D)           (None, 254, 30, 32)       320       \n",
      "                                                                 \n",
      " max_pooling2d_4 (MaxPoolin  (None, 127, 15, 32)       0         \n",
      " g2D)                                                            \n",
      "                                                                 \n",
      " conv2d_7 (Conv2D)           (None, 125, 13, 64)       18496     \n",
      "                                                                 \n",
      " max_pooling2d_5 (MaxPoolin  (None, 62, 6, 64)         0         \n",
      " g2D)                                                            \n",
      "                                                                 \n",
      " conv2d_8 (Conv2D)           (None, 60, 4, 64)         36928     \n",
      "                                                                 \n",
      " flatten_2 (Flatten)         (None, 15360)             0         \n",
      "                                                                 \n",
      " dense_4 (Dense)             (None, 64)                983104    \n",
      "                                                                 \n",
      " dense_5 (Dense)             (None, 10)                650       \n",
      "                                                                 \n",
      "=================================================================\n",
      "Total params: 1039498 (3.97 MB)\n",
      "Trainable params: 1039498 (3.97 MB)\n",
      "Non-trainable params: 0 (0.00 Byte)\n",
      "_________________________________________________________________\n"
     ]
    }
   ],
   "source": [
    "model.summary()"
   ]
  },
  {
   "cell_type": "code",
   "execution_count": 27,
   "metadata": {
    "colab": {
     "base_uri": "https://localhost:8080/"
    },
    "id": "ZcExa5WNWqDr",
    "outputId": "df7f3443-7f0d-4fe4-f3f4-7f2b99f04725"
   },
   "outputs": [
    {
     "name": "stdout",
     "output_type": "stream",
     "text": [
      "Epoch 1/10\n",
      "13/13 [==============================] - 7s 409ms/step - loss: 6.1307 - accuracy: 0.1475 - val_loss: 2.3231 - val_accuracy: 0.1700\n",
      "Epoch 2/10\n",
      "13/13 [==============================] - 4s 320ms/step - loss: 1.8933 - accuracy: 0.4150 - val_loss: 1.5796 - val_accuracy: 0.4900\n",
      "Epoch 3/10\n",
      "13/13 [==============================] - 5s 391ms/step - loss: 1.0270 - accuracy: 0.6950 - val_loss: 0.6227 - val_accuracy: 0.8000\n",
      "Epoch 4/10\n",
      "13/13 [==============================] - 6s 431ms/step - loss: 0.5115 - accuracy: 0.8700 - val_loss: 0.5150 - val_accuracy: 0.8700\n",
      "Epoch 5/10\n",
      "13/13 [==============================] - 4s 320ms/step - loss: 0.3456 - accuracy: 0.8950 - val_loss: 0.3490 - val_accuracy: 0.9200\n",
      "Epoch 6/10\n",
      "13/13 [==============================] - 5s 387ms/step - loss: 0.2282 - accuracy: 0.9300 - val_loss: 0.2875 - val_accuracy: 0.9100\n",
      "Epoch 7/10\n",
      "13/13 [==============================] - 5s 413ms/step - loss: 0.1290 - accuracy: 0.9575 - val_loss: 0.3121 - val_accuracy: 0.9100\n",
      "Epoch 8/10\n",
      "13/13 [==============================] - 4s 323ms/step - loss: 0.0940 - accuracy: 0.9825 - val_loss: 0.2794 - val_accuracy: 0.9300\n",
      "Epoch 9/10\n",
      "13/13 [==============================] - 5s 380ms/step - loss: 0.0656 - accuracy: 0.9800 - val_loss: 0.2368 - val_accuracy: 0.9300\n",
      "Epoch 10/10\n",
      "13/13 [==============================] - 6s 473ms/step - loss: 0.0947 - accuracy: 0.9700 - val_loss: 0.2236 - val_accuracy: 0.9300\n"
     ]
    }
   ],
   "source": [
    "model.compile(optimizer='adam',\n",
    "              loss=tf.keras.losses.SparseCategoricalCrossentropy(from_logits=True),\n",
    "              metrics=['accuracy'])\n",
    "\n",
    "history = model.fit(X_train, y_train, epochs=10,\n",
    "                    validation_data=(X_test, y_test))"
   ]
  },
  {
   "cell_type": "code",
   "execution_count": 28,
   "metadata": {
    "colab": {
     "base_uri": "https://localhost:8080/",
     "height": 487
    },
    "id": "SHH5Q9_jYb4P",
    "outputId": "f77f15fb-4456-433d-81f8-868cd2e17614"
   },
   "outputs": [
    {
     "data": {
      "image/png": "[encoded data removed]",
      "text/plain": [
       "<Figure size 1000x500 with 1 Axes>"
      ]
     },
     "metadata": {},
     "output_type": "display_data"
    }
   ],
   "source": [
    "fig = plt.figure(facecolor=\"w\", figsize=(10, 5))\n",
    "plt.plot(history.history['loss'])\n",
    "plt.plot(history.history['val_loss'])\n",
    "plt.title(\"Loss Curves\")\n",
    "plt.legend([\"Train Loss\", \"Test Loss\"])\n",
    "plt.xlabel(\"Epoch\")\n",
    "plt.ylabel(\"Loss\")\n",
    "plt.show()"
   ]
  }
 ],
 "metadata": {
  "accelerator": "GPU",
  "colab": {
   "gpuType": "T4",
   "provenance": []
  },
  "kernelspec": {
   "display_name": "Python 3 (ipykernel)",
   "language": "python",
   "name": "python3"
  },
  "language_info": {
   "codemirror_mode": {
    "name": "ipython",
    "version": 3
   },
   "file_extension": ".py",
   "mimetype": "text/x-python",
   "name": "python",
   "nbconvert_exporter": "python",
   "pygments_lexer": "ipython3",
   "version": "3.11.3"
  }
 },
 "nbformat": 4,
 "nbformat_minor": 1
}
